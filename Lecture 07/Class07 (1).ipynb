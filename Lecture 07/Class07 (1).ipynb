{
  "nbformat": 4,
  "nbformat_minor": 0,
  "metadata": {
    "colab": {
      "provenance": []
    },
    "kernelspec": {
      "name": "python3",
      "display_name": "Python 3"
    },
    "language_info": {
      "name": "python"
    }
  },
  "cells": [
    {
      "cell_type": "code",
      "execution_count": 1,
      "metadata": {
        "colab": {
          "base_uri": "https://localhost:8080/"
        },
        "id": "ftcsGRRVfINH",
        "outputId": "ce2bff1e-52a4-48f1-9fa4-e176d0c7a8a4"
      },
      "outputs": [
        {
          "output_type": "stream",
          "name": "stdout",
          "text": [
            "hello\n"
          ]
        }
      ],
      "source": [
        "print(\"hello\")"
      ]
    },
    {
      "cell_type": "code",
      "source": [
        "name : str = \"Warda\"\n",
        "print(name)\n",
        "print(type(name))\n",
        "print(id(name))\n",
        "\n",
        "name1 : str = \"Warda\"\n",
        "print(id(name))"
      ],
      "metadata": {
        "colab": {
          "base_uri": "https://localhost:8080/"
        },
        "id": "J4BJClJvf2pB",
        "outputId": "5d50704d-61a8-427d-933e-b8edae40652f"
      },
      "execution_count": 2,
      "outputs": [
        {
          "output_type": "stream",
          "name": "stdout",
          "text": [
            "Warda\n",
            "<class 'str'>\n",
            "134128591428592\n",
            "134128591428592\n"
          ]
        }
      ]
    },
    {
      "cell_type": "code",
      "source": [
        "data : str = \"hello world, how are you?\"\n",
        "print(data)"
      ],
      "metadata": {
        "colab": {
          "base_uri": "https://localhost:8080/"
        },
        "id": "8dTP62MSgHuB",
        "outputId": "42220950-09c8-42ff-f6cd-562a6e9b7930"
      },
      "execution_count": 3,
      "outputs": [
        {
          "output_type": "stream",
          "name": "stdout",
          "text": [
            "hello world, how are you?\n"
          ]
        }
      ]
    },
    {
      "cell_type": "code",
      "source": [
        "data : str = 'hello world, how are you?'\n",
        "print(data)"
      ],
      "metadata": {
        "colab": {
          "base_uri": "https://localhost:8080/"
        },
        "id": "MuWNN1ejgSb8",
        "outputId": "fa3fdcfd-79a4-4bf4-b4b7-3b30af5aa986"
      },
      "execution_count": 4,
      "outputs": [
        {
          "output_type": "stream",
          "name": "stdout",
          "text": [
            "hello world, how are you?\n"
          ]
        }
      ]
    },
    {
      "cell_type": "code",
      "source": [
        "data : str = \"hello world\", \"how are you?\"\n",
        "print(data)"
      ],
      "metadata": {
        "colab": {
          "base_uri": "https://localhost:8080/"
        },
        "id": "ghwNmOlpgd8m",
        "outputId": "30999d95-392b-4bba-92f3-420ee318212d"
      },
      "execution_count": 5,
      "outputs": [
        {
          "output_type": "stream",
          "name": "stdout",
          "text": [
            "('hello world', 'how are you?')\n"
          ]
        }
      ]
    },
    {
      "cell_type": "code",
      "source": [
        "data : str = \"hello world\\\", how are you?\"\n",
        "print(data)"
      ],
      "metadata": {
        "colab": {
          "base_uri": "https://localhost:8080/"
        },
        "id": "U4Hq7WKdgsI0",
        "outputId": "1aa5b6c1-d04b-4484-cb03-0020718e2090"
      },
      "execution_count": 6,
      "outputs": [
        {
          "output_type": "stream",
          "name": "stdout",
          "text": [
            "hello world\", how are you?\n"
          ]
        }
      ]
    },
    {
      "cell_type": "code",
      "source": [
        "data : str = 'hello world, \"how are you?'\n",
        "print(data)"
      ],
      "metadata": {
        "colab": {
          "base_uri": "https://localhost:8080/"
        },
        "id": "MpqkZrxBg0x2",
        "outputId": "c194ba70-c49e-40dc-afaf-597fa83d10a2"
      },
      "execution_count": 9,
      "outputs": [
        {
          "output_type": "stream",
          "name": "stdout",
          "text": [
            "hello world, \"how are you?\n"
          ]
        }
      ]
    },
    {
      "cell_type": "code",
      "source": [
        "data : str = \"hello world, how are you?\n",
        "Pakistan Zindabad\"\n",
        "print(data)"
      ],
      "metadata": {
        "colab": {
          "base_uri": "https://localhost:8080/",
          "height": 106
        },
        "id": "dl0bV97ehE1i",
        "outputId": "0b82a0c9-e689-4b37-8a88-6b0adc10d4c4"
      },
      "execution_count": 10,
      "outputs": [
        {
          "output_type": "error",
          "ename": "SyntaxError",
          "evalue": "unterminated string literal (detected at line 2) (<ipython-input-10-28a53a160020>, line 2)",
          "traceback": [
            "\u001b[0;36m  File \u001b[0;32m\"<ipython-input-10-28a53a160020>\"\u001b[0;36m, line \u001b[0;32m2\u001b[0m\n\u001b[0;31m    Pakistan Zindabad\"\u001b[0m\n\u001b[0m                     ^\u001b[0m\n\u001b[0;31mSyntaxError\u001b[0m\u001b[0;31m:\u001b[0m unterminated string literal (detected at line 2)\n"
          ]
        }
      ]
    },
    {
      "cell_type": "code",
      "source": [
        "data : str = \"hello world, how are you?\\nPakistan Zindabad\"\n",
        "print(data)"
      ],
      "metadata": {
        "colab": {
          "base_uri": "https://localhost:8080/"
        },
        "id": "2lvtY_CghR8H",
        "outputId": "3f18159e-16fb-40cd-f041-ba01f96f0a01"
      },
      "execution_count": 11,
      "outputs": [
        {
          "output_type": "stream",
          "name": "stdout",
          "text": [
            "hello world, how are you?\n",
            "Pakistan Zindabad\n"
          ]
        }
      ]
    },
    {
      "cell_type": "code",
      "source": [
        "data : str = \"\"\"hello world how are you\n",
        "Pakistan Zindabad\"\"\"\n",
        "display(data)\n",
        "print(data)"
      ],
      "metadata": {
        "colab": {
          "base_uri": "https://localhost:8080/",
          "height": 70
        },
        "id": "HbmUrXcYheSE",
        "outputId": "f3b926ba-5646-447c-eeb9-e1b9d9c061b6"
      },
      "execution_count": 12,
      "outputs": [
        {
          "output_type": "display_data",
          "data": {
            "text/plain": [
              "'hello world how are you\\nPakistan Zindabad'"
            ],
            "application/vnd.google.colaboratory.intrinsic+json": {
              "type": "string"
            }
          },
          "metadata": {}
        },
        {
          "output_type": "stream",
          "name": "stdout",
          "text": [
            "hello world how are you\n",
            "Pakistan Zindabad\n"
          ]
        }
      ]
    },
    {
      "cell_type": "code",
      "source": [
        "name : str = (\"Warda\")\n",
        "age : int = 20\n",
        "dob : str = \"2004-05-22\"\n",
        "\n",
        "message : str = \"Hello my name is \" + name + \" and my age is \" + str(age) + \" and my dob is \" + dob\n",
        "print(message)"
      ],
      "metadata": {
        "colab": {
          "base_uri": "https://localhost:8080/"
        },
        "id": "LfKRkI_5hgVt",
        "outputId": "3b2580d6-1b94-40a4-9a8c-484729958c0d"
      },
      "execution_count": 13,
      "outputs": [
        {
          "output_type": "stream",
          "name": "stdout",
          "text": [
            "Hello my name is Warda and my age is 20 and my dob is 2004-05-22\n"
          ]
        }
      ]
    },
    {
      "cell_type": "code",
      "source": [
        "name : str = (\"Warda\")\n",
        "age : int = 20\n",
        "dob : str = \"2004-05-22\"\n",
        "\n",
        "message : str = \"Hello my name is %s and my age is %d and my dob is %s\" %(name, age, dob)\n",
        "print(message)"
      ],
      "metadata": {
        "colab": {
          "base_uri": "https://localhost:8080/"
        },
        "id": "ujcAnFsHh4jV",
        "outputId": "f0589b7d-581d-4e16-8e1f-7f2812fa5aaf"
      },
      "execution_count": 14,
      "outputs": [
        {
          "output_type": "stream",
          "name": "stdout",
          "text": [
            "Hello my name is Warda and my age is 20 and my dob is 2004-05-22\n"
          ]
        }
      ]
    },
    {
      "cell_type": "code",
      "source": [
        "name : str = (\"Warda\")\n",
        "age : int = 20\n",
        "dob : str = \"2004-05-22\"\n",
        "\n",
        "message : str = \"Hello my name is {} and my age is {} and my dob is {}\".format(name, age, dob)\n",
        "print(message)"
      ],
      "metadata": {
        "colab": {
          "base_uri": "https://localhost:8080/"
        },
        "id": "7sRQjWQLiE-3",
        "outputId": "99d6e5a2-c01d-460e-b052-c70580c03924"
      },
      "execution_count": 15,
      "outputs": [
        {
          "output_type": "stream",
          "name": "stdout",
          "text": [
            "Hello my name is Warda and my age is 20 and my dob is 2004-05-22\n"
          ]
        }
      ]
    },
    {
      "cell_type": "code",
      "source": [
        "#concatenation\n",
        "#function f string\n",
        "# we can do calculations in f string\n",
        "#float data type shows evey number entered\n",
        "\n",
        "name : str = (\"Warda\")\n",
        "age : int = 20\n",
        "dob : str = \"2004-05-22\"\n",
        "salary : float = 200000.00\n",
        "\n",
        "message : str = f\"Hello my name is {name} and my age is {age} and my dob is {dob} and my salary is {salary}\"\n",
        "print(message)"
      ],
      "metadata": {
        "colab": {
          "base_uri": "https://localhost:8080/"
        },
        "id": "l7kC9AgRiQMt",
        "outputId": "4fe07683-1777-42dc-e576-f87491c48989"
      },
      "execution_count": 16,
      "outputs": [
        {
          "output_type": "stream",
          "name": "stdout",
          "text": [
            "Hello my name is Warda and my age is 20 and my dob is 2004-05-22 and my salary is 200000.0\n"
          ]
        }
      ]
    },
    {
      "cell_type": "code",
      "source": [
        "name : str = \"Warda Rehman\"\n",
        "rollno : str = 19057\n",
        "dl : str = \"No\"\n",
        "c : str = \"Karachi\"\n",
        "cntr : str = \"Bahria Auditorium\" #remove the extra \" and assign the str to cntr\n",
        "campus : str = \"Karsaz\" #assign the str to \"Karsaz\" to variable campus\n",
        "dt : str = \"Sunday 9-1\"\n",
        "\n",
        "Card : str = f\"\"\"NAME = {name}\n",
        "ROLL NO = {rollno}\n",
        "DL = {dl}\n",
        "CITY = {c}\n",
        "CNTR = {cntr}\n",
        "CAMPUS = {campus}\n",
        "DT = {dt}\n",
        "\"\"\"\n",
        "print(Card)"
      ],
      "metadata": {
        "colab": {
          "base_uri": "https://localhost:8080/"
        },
        "id": "MRnn1O7difbX",
        "outputId": "bf304619-e561-4873-e387-2dc836a96a38"
      },
      "execution_count": 18,
      "outputs": [
        {
          "output_type": "stream",
          "name": "stdout",
          "text": [
            "NAME = Warda Rehman\n",
            "ROLL NO = 19057\n",
            "DL = No\n",
            "CITY = Karachi\n",
            "CNTR = Bahria Auditorium\n",
            "CAMPUS = Karsaz\n",
            "DT = Sunday 9-1\n",
            "\n"
          ]
        }
      ]
    },
    {
      "cell_type": "code",
      "source": [
        "# Step 1: Import required libraries\n",
        "from PIL import Image, ImageDraw, ImageFont\n",
        "from google.colab import files\n",
        "\n",
        "# Step 2: Define card size and colors\n",
        "card_width = 900\n",
        "card_height = 500\n",
        "\n",
        "# Colors\n",
        "background_color = (255, 255, 255)  # White background\n",
        "dark_green = (0, 100, 0)  # For main text and borders\n",
        "light_green = (184, 220, 205)  # Light green for details\n",
        "red = (193, 0, 0)  # Red bar for 'Q1'\n",
        "blue_background = (153, 204, 255)  # Light blue background for profile image\n",
        "black = (0, 0, 0)  # Text color\n",
        "\n",
        "# Step 3: Create a new blank image (white background)\n",
        "id_card = Image.new('RGB', (card_width, card_height), background_color)\n",
        "draw = ImageDraw.Draw(id_card)\n",
        "\n",
        "# Step 4: Draw borders and sections\n",
        "# Outer Border\n",
        "border_thickness = 5\n",
        "draw.rectangle([(0, 0), (card_width, card_height)], outline=dark_green, width=border_thickness)\n",
        "\n",
        "# Step 5: Upload profile picture (run this cell and manually upload your image)\n",
        "print(\"Please upload the profile picture.\")\n",
        "uploaded = files.upload()\n",
        "\n",
        "# Get the uploaded image filename\n",
        "image_filename = next(iter(uploaded))\n",
        "\n",
        "# Step 6: Load fonts (Use default fonts if truetype not available)\n",
        "try:\n",
        "    font_title = ImageFont.truetype('/usr/share/fonts/truetype/dejavu/DejaVuSans-Bold.ttf', 35)\n",
        "    font_text = ImageFont.truetype('/usr/share/fonts/truetype/dejavu/DejaVuSans-Bold.ttf', 20)\n",
        "    font_small = ImageFont.truetype('/usr/share/fonts/truetype/dejavu/DejaVuSans-Bold.ttf', 16)\n",
        "    font_signature = ImageFont.truetype('/usr/share/fonts/truetype/dejavu/DejaVuSans-Bold.ttf', 24)\n",
        "except:\n",
        "    # Use default fonts if the above fonts are not available\n",
        "    font_title = ImageFont.load_default()\n",
        "    font_text = ImageFont.load_default()\n",
        "    font_small = ImageFont.load_default()\n",
        "    font_signature = ImageFont.load_default()\n",
        "\n",
        "# Step 7: Add main title \"ID CARD\"\n",
        "draw.text((50, 20), \"ID CARD\", font=font_title, fill=dark_green)\n",
        "\n",
        "# Draw a horizontal line under the title\n",
        "draw.line((50, 70, card_width - 50, 70), fill=dark_green, width=3)\n",
        "\n",
        "# Step 8: Add personal details (text aligned and sized based on the original card)\n",
        "details = [\n",
        "    (\"Name: Wajahat Hussain Sangi\", (50, 90)),\n",
        "    (\"Roll No: PIAIC234716\", (50, 130)),\n",
        "    (\"Distance learning: No\", (50, 170)),\n",
        "    (\"City: Karachi\", (50, 210)),\n",
        "    (\"Center: Bahria Auditorium\", (50, 250)),\n",
        "    (\"Campus: Karsaz\", (50, 290)),\n",
        "    (\"Days / Time: Sunday - 09:00 AM to 01:00 PM\", (50, 330)),\n",
        "    (\"Batch 61\", (50, 370))\n",
        "]\n",
        "\n",
        "for text, position in details:\n",
        "    draw.text(position, text, font=font_text, fill=black)\n",
        "\n",
        "# Step 9: Load and place the profile picture\n",
        "profile_pic = Image.open(image_filename)\n",
        "profile_pic = profile_pic.resize((150, 180))  # Resize the uploaded image to fit in the profile box\n",
        "\n",
        "# Step 12: Add light blue background behind the profile picture\n",
        "draw.rectangle([(600, 70), (780, 290)], fill=blue_background)\n",
        "\n",
        "# Paste the profile picture onto the card\n",
        "id_card.paste(profile_pic, (600, 70))\n",
        "\n",
        "# Step 13: Save and display the ID card\n",
        "id_card.save('final_generated_id_card.png')\n",
        "\n",
        "# Step 14: Download the image\n",
        "files.download('final_generated_id_card.png')\n",
        "\n",
        "# Step 15: Display the ID card in Colab\n",
        "id_card.show()\n"
      ],
      "metadata": {
        "colab": {
          "base_uri": "https://localhost:8080/",
          "height": 90
        },
        "id": "RsvhSHD3jr_d",
        "outputId": "dbfb6b36-2ee6-4b99-9ab4-3a4a670771ae"
      },
      "execution_count": 19,
      "outputs": [
        {
          "output_type": "stream",
          "name": "stdout",
          "text": [
            "Please upload the profile picture.\n"
          ]
        },
        {
          "output_type": "display_data",
          "data": {
            "text/plain": [
              "<IPython.core.display.HTML object>"
            ],
            "text/html": [
              "\n",
              "     <input type=\"file\" id=\"files-d710eaa5-3141-40e7-ab7c-951151962c50\" name=\"files[]\" multiple disabled\n",
              "        style=\"border:none\" />\n",
              "     <output id=\"result-d710eaa5-3141-40e7-ab7c-951151962c50\">\n",
              "      Upload widget is only available when the cell has been executed in the\n",
              "      current browser session. Please rerun this cell to enable.\n",
              "      </output>\n",
              "      <script>// Copyright 2017 Google LLC\n",
              "//\n",
              "// Licensed under the Apache License, Version 2.0 (the \"License\");\n",
              "// you may not use this file except in compliance with the License.\n",
              "// You may obtain a copy of the License at\n",
              "//\n",
              "//      http://www.apache.org/licenses/LICENSE-2.0\n",
              "//\n",
              "// Unless required by applicable law or agreed to in writing, software\n",
              "// distributed under the License is distributed on an \"AS IS\" BASIS,\n",
              "// WITHOUT WARRANTIES OR CONDITIONS OF ANY KIND, either express or implied.\n",
              "// See the License for the specific language governing permissions and\n",
              "// limitations under the License.\n",
              "\n",
              "/**\n",
              " * @fileoverview Helpers for google.colab Python module.\n",
              " */\n",
              "(function(scope) {\n",
              "function span(text, styleAttributes = {}) {\n",
              "  const element = document.createElement('span');\n",
              "  element.textContent = text;\n",
              "  for (const key of Object.keys(styleAttributes)) {\n",
              "    element.style[key] = styleAttributes[key];\n",
              "  }\n",
              "  return element;\n",
              "}\n",
              "\n",
              "// Max number of bytes which will be uploaded at a time.\n",
              "const MAX_PAYLOAD_SIZE = 100 * 1024;\n",
              "\n",
              "function _uploadFiles(inputId, outputId) {\n",
              "  const steps = uploadFilesStep(inputId, outputId);\n",
              "  const outputElement = document.getElementById(outputId);\n",
              "  // Cache steps on the outputElement to make it available for the next call\n",
              "  // to uploadFilesContinue from Python.\n",
              "  outputElement.steps = steps;\n",
              "\n",
              "  return _uploadFilesContinue(outputId);\n",
              "}\n",
              "\n",
              "// This is roughly an async generator (not supported in the browser yet),\n",
              "// where there are multiple asynchronous steps and the Python side is going\n",
              "// to poll for completion of each step.\n",
              "// This uses a Promise to block the python side on completion of each step,\n",
              "// then passes the result of the previous step as the input to the next step.\n",
              "function _uploadFilesContinue(outputId) {\n",
              "  const outputElement = document.getElementById(outputId);\n",
              "  const steps = outputElement.steps;\n",
              "\n",
              "  const next = steps.next(outputElement.lastPromiseValue);\n",
              "  return Promise.resolve(next.value.promise).then((value) => {\n",
              "    // Cache the last promise value to make it available to the next\n",
              "    // step of the generator.\n",
              "    outputElement.lastPromiseValue = value;\n",
              "    return next.value.response;\n",
              "  });\n",
              "}\n",
              "\n",
              "/**\n",
              " * Generator function which is called between each async step of the upload\n",
              " * process.\n",
              " * @param {string} inputId Element ID of the input file picker element.\n",
              " * @param {string} outputId Element ID of the output display.\n",
              " * @return {!Iterable<!Object>} Iterable of next steps.\n",
              " */\n",
              "function* uploadFilesStep(inputId, outputId) {\n",
              "  const inputElement = document.getElementById(inputId);\n",
              "  inputElement.disabled = false;\n",
              "\n",
              "  const outputElement = document.getElementById(outputId);\n",
              "  outputElement.innerHTML = '';\n",
              "\n",
              "  const pickedPromise = new Promise((resolve) => {\n",
              "    inputElement.addEventListener('change', (e) => {\n",
              "      resolve(e.target.files);\n",
              "    });\n",
              "  });\n",
              "\n",
              "  const cancel = document.createElement('button');\n",
              "  inputElement.parentElement.appendChild(cancel);\n",
              "  cancel.textContent = 'Cancel upload';\n",
              "  const cancelPromise = new Promise((resolve) => {\n",
              "    cancel.onclick = () => {\n",
              "      resolve(null);\n",
              "    };\n",
              "  });\n",
              "\n",
              "  // Wait for the user to pick the files.\n",
              "  const files = yield {\n",
              "    promise: Promise.race([pickedPromise, cancelPromise]),\n",
              "    response: {\n",
              "      action: 'starting',\n",
              "    }\n",
              "  };\n",
              "\n",
              "  cancel.remove();\n",
              "\n",
              "  // Disable the input element since further picks are not allowed.\n",
              "  inputElement.disabled = true;\n",
              "\n",
              "  if (!files) {\n",
              "    return {\n",
              "      response: {\n",
              "        action: 'complete',\n",
              "      }\n",
              "    };\n",
              "  }\n",
              "\n",
              "  for (const file of files) {\n",
              "    const li = document.createElement('li');\n",
              "    li.append(span(file.name, {fontWeight: 'bold'}));\n",
              "    li.append(span(\n",
              "        `(${file.type || 'n/a'}) - ${file.size} bytes, ` +\n",
              "        `last modified: ${\n",
              "            file.lastModifiedDate ? file.lastModifiedDate.toLocaleDateString() :\n",
              "                                    'n/a'} - `));\n",
              "    const percent = span('0% done');\n",
              "    li.appendChild(percent);\n",
              "\n",
              "    outputElement.appendChild(li);\n",
              "\n",
              "    const fileDataPromise = new Promise((resolve) => {\n",
              "      const reader = new FileReader();\n",
              "      reader.onload = (e) => {\n",
              "        resolve(e.target.result);\n",
              "      };\n",
              "      reader.readAsArrayBuffer(file);\n",
              "    });\n",
              "    // Wait for the data to be ready.\n",
              "    let fileData = yield {\n",
              "      promise: fileDataPromise,\n",
              "      response: {\n",
              "        action: 'continue',\n",
              "      }\n",
              "    };\n",
              "\n",
              "    // Use a chunked sending to avoid message size limits. See b/62115660.\n",
              "    let position = 0;\n",
              "    do {\n",
              "      const length = Math.min(fileData.byteLength - position, MAX_PAYLOAD_SIZE);\n",
              "      const chunk = new Uint8Array(fileData, position, length);\n",
              "      position += length;\n",
              "\n",
              "      const base64 = btoa(String.fromCharCode.apply(null, chunk));\n",
              "      yield {\n",
              "        response: {\n",
              "          action: 'append',\n",
              "          file: file.name,\n",
              "          data: base64,\n",
              "        },\n",
              "      };\n",
              "\n",
              "      let percentDone = fileData.byteLength === 0 ?\n",
              "          100 :\n",
              "          Math.round((position / fileData.byteLength) * 100);\n",
              "      percent.textContent = `${percentDone}% done`;\n",
              "\n",
              "    } while (position < fileData.byteLength);\n",
              "  }\n",
              "\n",
              "  // All done.\n",
              "  yield {\n",
              "    response: {\n",
              "      action: 'complete',\n",
              "    }\n",
              "  };\n",
              "}\n",
              "\n",
              "scope.google = scope.google || {};\n",
              "scope.google.colab = scope.google.colab || {};\n",
              "scope.google.colab._files = {\n",
              "  _uploadFiles,\n",
              "  _uploadFilesContinue,\n",
              "};\n",
              "})(self);\n",
              "</script> "
            ]
          },
          "metadata": {}
        },
        {
          "output_type": "stream",
          "name": "stdout",
          "text": [
            "Saving Black-White-Spider-Wallpaper.jpg to Black-White-Spider-Wallpaper.jpg\n"
          ]
        },
        {
          "output_type": "display_data",
          "data": {
            "text/plain": [
              "<IPython.core.display.Javascript object>"
            ],
            "application/javascript": [
              "\n",
              "    async function download(id, filename, size) {\n",
              "      if (!google.colab.kernel.accessAllowed) {\n",
              "        return;\n",
              "      }\n",
              "      const div = document.createElement('div');\n",
              "      const label = document.createElement('label');\n",
              "      label.textContent = `Downloading \"${filename}\": `;\n",
              "      div.appendChild(label);\n",
              "      const progress = document.createElement('progress');\n",
              "      progress.max = size;\n",
              "      div.appendChild(progress);\n",
              "      document.body.appendChild(div);\n",
              "\n",
              "      const buffers = [];\n",
              "      let downloaded = 0;\n",
              "\n",
              "      const channel = await google.colab.kernel.comms.open(id);\n",
              "      // Send a message to notify the kernel that we're ready.\n",
              "      channel.send({})\n",
              "\n",
              "      for await (const message of channel.messages) {\n",
              "        // Send a message to notify the kernel that we're ready.\n",
              "        channel.send({})\n",
              "        if (message.buffers) {\n",
              "          for (const buffer of message.buffers) {\n",
              "            buffers.push(buffer);\n",
              "            downloaded += buffer.byteLength;\n",
              "            progress.value = downloaded;\n",
              "          }\n",
              "        }\n",
              "      }\n",
              "      const blob = new Blob(buffers, {type: 'application/binary'});\n",
              "      const a = document.createElement('a');\n",
              "      a.href = window.URL.createObjectURL(blob);\n",
              "      a.download = filename;\n",
              "      div.appendChild(a);\n",
              "      a.click();\n",
              "      div.remove();\n",
              "    }\n",
              "  "
            ]
          },
          "metadata": {}
        },
        {
          "output_type": "display_data",
          "data": {
            "text/plain": [
              "<IPython.core.display.Javascript object>"
            ],
            "application/javascript": [
              "download(\"download_2220454f-b049-4bf4-81da-04fa8d52ca79\", \"final_generated_id_card.png\", 39618)"
            ]
          },
          "metadata": {}
        }
      ]
    }
  ]
}